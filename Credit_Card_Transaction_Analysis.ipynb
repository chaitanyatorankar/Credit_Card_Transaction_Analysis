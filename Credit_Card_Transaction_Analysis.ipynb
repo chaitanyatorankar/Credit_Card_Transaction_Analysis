{
 "cells": [
  {
   "cell_type": "code",
   "execution_count": 1,
   "id": "62b9c32d-9a7a-4551-9efb-b2dcd41ed12e",
   "metadata": {},
   "outputs": [],
   "source": [
    "import pandas as pd\n",
    "import numpy as np\n",
    "import seaborn as sb\n",
    "import matplotlib.pyplot as plt"
   ]
  },
  {
   "cell_type": "code",
   "execution_count": 2,
   "id": "ff7506e6-4547-4500-a8b9-1eed527c21fc",
   "metadata": {},
   "outputs": [],
   "source": [
    "df = pd.read_csv(\"../Dataset/Credit card transactions - India - Simple.csv\")"
   ]
  },
  {
   "cell_type": "code",
   "execution_count": 3,
   "id": "47c26630-f6c6-49d6-8ac9-23325a9e94a7",
   "metadata": {
    "scrolled": true
   },
   "outputs": [
    {
     "data": {
      "text/html": [
       "<div>\n",
       "<style scoped>\n",
       "    .dataframe tbody tr th:only-of-type {\n",
       "        vertical-align: middle;\n",
       "    }\n",
       "\n",
       "    .dataframe tbody tr th {\n",
       "        vertical-align: top;\n",
       "    }\n",
       "\n",
       "    .dataframe thead th {\n",
       "        text-align: right;\n",
       "    }\n",
       "</style>\n",
       "<table border=\"1\" class=\"dataframe\">\n",
       "  <thead>\n",
       "    <tr style=\"text-align: right;\">\n",
       "      <th></th>\n",
       "      <th>index</th>\n",
       "      <th>City</th>\n",
       "      <th>Date</th>\n",
       "      <th>Card Type</th>\n",
       "      <th>Exp Type</th>\n",
       "      <th>Gender</th>\n",
       "      <th>Amount</th>\n",
       "    </tr>\n",
       "  </thead>\n",
       "  <tbody>\n",
       "    <tr>\n",
       "      <th>0</th>\n",
       "      <td>0</td>\n",
       "      <td>Delhi, India</td>\n",
       "      <td>29-Oct-14</td>\n",
       "      <td>Gold</td>\n",
       "      <td>Bills</td>\n",
       "      <td>F</td>\n",
       "      <td>82475</td>\n",
       "    </tr>\n",
       "    <tr>\n",
       "      <th>1</th>\n",
       "      <td>1</td>\n",
       "      <td>Greater Mumbai, India</td>\n",
       "      <td>22-Aug-14</td>\n",
       "      <td>Platinum</td>\n",
       "      <td>Bills</td>\n",
       "      <td>F</td>\n",
       "      <td>32555</td>\n",
       "    </tr>\n",
       "    <tr>\n",
       "      <th>2</th>\n",
       "      <td>2</td>\n",
       "      <td>Bengaluru, India</td>\n",
       "      <td>27-Aug-14</td>\n",
       "      <td>Silver</td>\n",
       "      <td>Bills</td>\n",
       "      <td>F</td>\n",
       "      <td>101738</td>\n",
       "    </tr>\n",
       "    <tr>\n",
       "      <th>3</th>\n",
       "      <td>3</td>\n",
       "      <td>Greater Mumbai, India</td>\n",
       "      <td>12-Apr-14</td>\n",
       "      <td>Signature</td>\n",
       "      <td>Bills</td>\n",
       "      <td>F</td>\n",
       "      <td>123424</td>\n",
       "    </tr>\n",
       "    <tr>\n",
       "      <th>4</th>\n",
       "      <td>4</td>\n",
       "      <td>Bengaluru, India</td>\n",
       "      <td>5-May-15</td>\n",
       "      <td>Gold</td>\n",
       "      <td>Bills</td>\n",
       "      <td>F</td>\n",
       "      <td>171574</td>\n",
       "    </tr>\n",
       "    <tr>\n",
       "      <th>...</th>\n",
       "      <td>...</td>\n",
       "      <td>...</td>\n",
       "      <td>...</td>\n",
       "      <td>...</td>\n",
       "      <td>...</td>\n",
       "      <td>...</td>\n",
       "      <td>...</td>\n",
       "    </tr>\n",
       "    <tr>\n",
       "      <th>26047</th>\n",
       "      <td>26047</td>\n",
       "      <td>Kolkata, India</td>\n",
       "      <td>22-Jun-14</td>\n",
       "      <td>Silver</td>\n",
       "      <td>Travel</td>\n",
       "      <td>F</td>\n",
       "      <td>128191</td>\n",
       "    </tr>\n",
       "    <tr>\n",
       "      <th>26048</th>\n",
       "      <td>26048</td>\n",
       "      <td>Pune, India</td>\n",
       "      <td>3-Aug-14</td>\n",
       "      <td>Signature</td>\n",
       "      <td>Travel</td>\n",
       "      <td>M</td>\n",
       "      <td>246316</td>\n",
       "    </tr>\n",
       "    <tr>\n",
       "      <th>26049</th>\n",
       "      <td>26049</td>\n",
       "      <td>Hyderabad, India</td>\n",
       "      <td>16-Jan-15</td>\n",
       "      <td>Silver</td>\n",
       "      <td>Travel</td>\n",
       "      <td>M</td>\n",
       "      <td>265019</td>\n",
       "    </tr>\n",
       "    <tr>\n",
       "      <th>26050</th>\n",
       "      <td>26050</td>\n",
       "      <td>Kanpur, India</td>\n",
       "      <td>14-Sep-14</td>\n",
       "      <td>Silver</td>\n",
       "      <td>Travel</td>\n",
       "      <td>M</td>\n",
       "      <td>88174</td>\n",
       "    </tr>\n",
       "    <tr>\n",
       "      <th>26051</th>\n",
       "      <td>26051</td>\n",
       "      <td>Hyderabad, India</td>\n",
       "      <td>19-Oct-13</td>\n",
       "      <td>Signature</td>\n",
       "      <td>Bills</td>\n",
       "      <td>M</td>\n",
       "      <td>184410</td>\n",
       "    </tr>\n",
       "  </tbody>\n",
       "</table>\n",
       "<p>26052 rows × 7 columns</p>\n",
       "</div>"
      ],
      "text/plain": [
       "       index                   City       Date  Card Type Exp Type Gender  \\\n",
       "0          0           Delhi, India  29-Oct-14       Gold    Bills      F   \n",
       "1          1  Greater Mumbai, India  22-Aug-14   Platinum    Bills      F   \n",
       "2          2       Bengaluru, India  27-Aug-14     Silver    Bills      F   \n",
       "3          3  Greater Mumbai, India  12-Apr-14  Signature    Bills      F   \n",
       "4          4       Bengaluru, India   5-May-15       Gold    Bills      F   \n",
       "...      ...                    ...        ...        ...      ...    ...   \n",
       "26047  26047         Kolkata, India  22-Jun-14     Silver   Travel      F   \n",
       "26048  26048            Pune, India   3-Aug-14  Signature   Travel      M   \n",
       "26049  26049       Hyderabad, India  16-Jan-15     Silver   Travel      M   \n",
       "26050  26050          Kanpur, India  14-Sep-14     Silver   Travel      M   \n",
       "26051  26051       Hyderabad, India  19-Oct-13  Signature    Bills      M   \n",
       "\n",
       "       Amount  \n",
       "0       82475  \n",
       "1       32555  \n",
       "2      101738  \n",
       "3      123424  \n",
       "4      171574  \n",
       "...       ...  \n",
       "26047  128191  \n",
       "26048  246316  \n",
       "26049  265019  \n",
       "26050   88174  \n",
       "26051  184410  \n",
       "\n",
       "[26052 rows x 7 columns]"
      ]
     },
     "execution_count": 3,
     "metadata": {},
     "output_type": "execute_result"
    }
   ],
   "source": [
    "df"
   ]
  },
  {
   "cell_type": "code",
   "execution_count": 4,
   "id": "b20a1d45-f24c-424e-b215-1bd42954455c",
   "metadata": {},
   "outputs": [],
   "source": [
    "df = df.rename( columns = {'Card Type' : 'Card_Type'})\n",
    "df = df.rename( columns = {'Exp Type' : 'Exp_Type'})"
   ]
  },
  {
   "cell_type": "code",
   "execution_count": 5,
   "id": "0f42aaf7-9935-42f0-8f4f-e2750f64ddd0",
   "metadata": {},
   "outputs": [],
   "source": [
    "df.Date = df.Date.astype('datetime64[ns]')"
   ]
  },
  {
   "cell_type": "code",
   "execution_count": 6,
   "id": "7677d87c-fec8-40ac-8781-dba3ceae16f8",
   "metadata": {},
   "outputs": [],
   "source": [
    "df['Year'] = df['Date'].dt.year\n",
    "df['Month'] = df['Date'].dt.month"
   ]
  },
  {
   "cell_type": "code",
   "execution_count": 7,
   "id": "d9ba042e-e97c-4f6f-af54-b272b15745f5",
   "metadata": {},
   "outputs": [
    {
     "data": {
      "text/html": [
       "<div>\n",
       "<style scoped>\n",
       "    .dataframe tbody tr th:only-of-type {\n",
       "        vertical-align: middle;\n",
       "    }\n",
       "\n",
       "    .dataframe tbody tr th {\n",
       "        vertical-align: top;\n",
       "    }\n",
       "\n",
       "    .dataframe thead th {\n",
       "        text-align: right;\n",
       "    }\n",
       "</style>\n",
       "<table border=\"1\" class=\"dataframe\">\n",
       "  <thead>\n",
       "    <tr style=\"text-align: right;\">\n",
       "      <th></th>\n",
       "      <th>index</th>\n",
       "      <th>City</th>\n",
       "      <th>Date</th>\n",
       "      <th>Card_Type</th>\n",
       "      <th>Exp_Type</th>\n",
       "      <th>Gender</th>\n",
       "      <th>Amount</th>\n",
       "      <th>Year</th>\n",
       "      <th>Month</th>\n",
       "    </tr>\n",
       "  </thead>\n",
       "  <tbody>\n",
       "    <tr>\n",
       "      <th>0</th>\n",
       "      <td>0</td>\n",
       "      <td>Delhi, India</td>\n",
       "      <td>2014-10-29</td>\n",
       "      <td>Gold</td>\n",
       "      <td>Bills</td>\n",
       "      <td>F</td>\n",
       "      <td>82475</td>\n",
       "      <td>2014</td>\n",
       "      <td>10</td>\n",
       "    </tr>\n",
       "    <tr>\n",
       "      <th>1</th>\n",
       "      <td>1</td>\n",
       "      <td>Greater Mumbai, India</td>\n",
       "      <td>2014-08-22</td>\n",
       "      <td>Platinum</td>\n",
       "      <td>Bills</td>\n",
       "      <td>F</td>\n",
       "      <td>32555</td>\n",
       "      <td>2014</td>\n",
       "      <td>8</td>\n",
       "    </tr>\n",
       "    <tr>\n",
       "      <th>2</th>\n",
       "      <td>2</td>\n",
       "      <td>Bengaluru, India</td>\n",
       "      <td>2014-08-27</td>\n",
       "      <td>Silver</td>\n",
       "      <td>Bills</td>\n",
       "      <td>F</td>\n",
       "      <td>101738</td>\n",
       "      <td>2014</td>\n",
       "      <td>8</td>\n",
       "    </tr>\n",
       "    <tr>\n",
       "      <th>3</th>\n",
       "      <td>3</td>\n",
       "      <td>Greater Mumbai, India</td>\n",
       "      <td>2014-04-12</td>\n",
       "      <td>Signature</td>\n",
       "      <td>Bills</td>\n",
       "      <td>F</td>\n",
       "      <td>123424</td>\n",
       "      <td>2014</td>\n",
       "      <td>4</td>\n",
       "    </tr>\n",
       "    <tr>\n",
       "      <th>4</th>\n",
       "      <td>4</td>\n",
       "      <td>Bengaluru, India</td>\n",
       "      <td>2015-05-05</td>\n",
       "      <td>Gold</td>\n",
       "      <td>Bills</td>\n",
       "      <td>F</td>\n",
       "      <td>171574</td>\n",
       "      <td>2015</td>\n",
       "      <td>5</td>\n",
       "    </tr>\n",
       "    <tr>\n",
       "      <th>...</th>\n",
       "      <td>...</td>\n",
       "      <td>...</td>\n",
       "      <td>...</td>\n",
       "      <td>...</td>\n",
       "      <td>...</td>\n",
       "      <td>...</td>\n",
       "      <td>...</td>\n",
       "      <td>...</td>\n",
       "      <td>...</td>\n",
       "    </tr>\n",
       "    <tr>\n",
       "      <th>26047</th>\n",
       "      <td>26047</td>\n",
       "      <td>Kolkata, India</td>\n",
       "      <td>2014-06-22</td>\n",
       "      <td>Silver</td>\n",
       "      <td>Travel</td>\n",
       "      <td>F</td>\n",
       "      <td>128191</td>\n",
       "      <td>2014</td>\n",
       "      <td>6</td>\n",
       "    </tr>\n",
       "    <tr>\n",
       "      <th>26048</th>\n",
       "      <td>26048</td>\n",
       "      <td>Pune, India</td>\n",
       "      <td>2014-08-03</td>\n",
       "      <td>Signature</td>\n",
       "      <td>Travel</td>\n",
       "      <td>M</td>\n",
       "      <td>246316</td>\n",
       "      <td>2014</td>\n",
       "      <td>8</td>\n",
       "    </tr>\n",
       "    <tr>\n",
       "      <th>26049</th>\n",
       "      <td>26049</td>\n",
       "      <td>Hyderabad, India</td>\n",
       "      <td>2015-01-16</td>\n",
       "      <td>Silver</td>\n",
       "      <td>Travel</td>\n",
       "      <td>M</td>\n",
       "      <td>265019</td>\n",
       "      <td>2015</td>\n",
       "      <td>1</td>\n",
       "    </tr>\n",
       "    <tr>\n",
       "      <th>26050</th>\n",
       "      <td>26050</td>\n",
       "      <td>Kanpur, India</td>\n",
       "      <td>2014-09-14</td>\n",
       "      <td>Silver</td>\n",
       "      <td>Travel</td>\n",
       "      <td>M</td>\n",
       "      <td>88174</td>\n",
       "      <td>2014</td>\n",
       "      <td>9</td>\n",
       "    </tr>\n",
       "    <tr>\n",
       "      <th>26051</th>\n",
       "      <td>26051</td>\n",
       "      <td>Hyderabad, India</td>\n",
       "      <td>2013-10-19</td>\n",
       "      <td>Signature</td>\n",
       "      <td>Bills</td>\n",
       "      <td>M</td>\n",
       "      <td>184410</td>\n",
       "      <td>2013</td>\n",
       "      <td>10</td>\n",
       "    </tr>\n",
       "  </tbody>\n",
       "</table>\n",
       "<p>26052 rows × 9 columns</p>\n",
       "</div>"
      ],
      "text/plain": [
       "       index                   City       Date  Card_Type Exp_Type Gender  \\\n",
       "0          0           Delhi, India 2014-10-29       Gold    Bills      F   \n",
       "1          1  Greater Mumbai, India 2014-08-22   Platinum    Bills      F   \n",
       "2          2       Bengaluru, India 2014-08-27     Silver    Bills      F   \n",
       "3          3  Greater Mumbai, India 2014-04-12  Signature    Bills      F   \n",
       "4          4       Bengaluru, India 2015-05-05       Gold    Bills      F   \n",
       "...      ...                    ...        ...        ...      ...    ...   \n",
       "26047  26047         Kolkata, India 2014-06-22     Silver   Travel      F   \n",
       "26048  26048            Pune, India 2014-08-03  Signature   Travel      M   \n",
       "26049  26049       Hyderabad, India 2015-01-16     Silver   Travel      M   \n",
       "26050  26050          Kanpur, India 2014-09-14     Silver   Travel      M   \n",
       "26051  26051       Hyderabad, India 2013-10-19  Signature    Bills      M   \n",
       "\n",
       "       Amount  Year  Month  \n",
       "0       82475  2014     10  \n",
       "1       32555  2014      8  \n",
       "2      101738  2014      8  \n",
       "3      123424  2014      4  \n",
       "4      171574  2015      5  \n",
       "...       ...   ...    ...  \n",
       "26047  128191  2014      6  \n",
       "26048  246316  2014      8  \n",
       "26049  265019  2015      1  \n",
       "26050   88174  2014      9  \n",
       "26051  184410  2013     10  \n",
       "\n",
       "[26052 rows x 9 columns]"
      ]
     },
     "execution_count": 7,
     "metadata": {},
     "output_type": "execute_result"
    }
   ],
   "source": [
    "df"
   ]
  },
  {
   "cell_type": "code",
   "execution_count": 8,
   "id": "e43fb29c-b3ac-4d3a-8d9c-da9386428ef8",
   "metadata": {},
   "outputs": [
    {
     "data": {
      "text/plain": [
       "index                 int64\n",
       "City                 object\n",
       "Date         datetime64[ns]\n",
       "Card_Type            object\n",
       "Exp_Type             object\n",
       "Gender               object\n",
       "Amount                int64\n",
       "Year                  int32\n",
       "Month                 int32\n",
       "dtype: object"
      ]
     },
     "execution_count": 8,
     "metadata": {},
     "output_type": "execute_result"
    }
   ],
   "source": [
    "df.dtypes"
   ]
  },
  {
   "cell_type": "markdown",
   "id": "ccfa9e90-2f48-490e-a811-56f65112c206",
   "metadata": {},
   "source": [
    "1. Distribution of Transaction"
   ]
  },
  {
   "cell_type": "code",
   "execution_count": 9,
   "id": "6ec2cfb4-b1ae-4a73-ab08-542a3c29ee35",
   "metadata": {},
   "outputs": [
    {
     "data": {
      "text/plain": [
       "City\n",
       "Bengaluru, India          3552\n",
       "Greater Mumbai, India     3493\n",
       "Ahmedabad, India          3491\n",
       "Delhi, India              3482\n",
       "Hyderabad, India           784\n",
       "                          ... \n",
       "Rayagada, India              1\n",
       "Varanasi, India              1\n",
       "Hugli-Chinsurah, India       1\n",
       "Alirajpur, India             1\n",
       "Fazilka, India               1\n",
       "Name: count, Length: 986, dtype: int64"
      ]
     },
     "execution_count": 9,
     "metadata": {},
     "output_type": "execute_result"
    }
   ],
   "source": [
    "df['City'].value_counts()"
   ]
  },
  {
   "cell_type": "code",
   "execution_count": 10,
   "id": "28f045fd-eb44-4a75-b952-781fa6cfc966",
   "metadata": {},
   "outputs": [
    {
     "data": {
      "text/plain": [
       "City\n",
       "Thodupuzha, India      296684.000000\n",
       "Nahan, India           264597.600000\n",
       "Alwar, India           263488.666667\n",
       "Manendragarh, India    257140.500000\n",
       "Vellore, India         256179.000000\n",
       "Kashipur, India        254690.750000\n",
       "Rewari, India          253201.800000\n",
       "Yadgir, India          249814.333333\n",
       "Kadapa, India          249608.428571\n",
       "Viramgam, India        246201.000000\n",
       "Name: Amount, dtype: float64"
      ]
     },
     "execution_count": 10,
     "metadata": {},
     "output_type": "execute_result"
    }
   ],
   "source": [
    "df.groupby('City')['Amount'].mean().nlargest(10)"
   ]
  },
  {
   "cell_type": "code",
   "execution_count": 11,
   "id": "9ff77952-250d-4cbe-a882-1417eed3f7ca",
   "metadata": {},
   "outputs": [
    {
     "data": {
      "text/plain": [
       "Month  City              \n",
       "1      Adoni, India            205703\n",
       "       Adoor, India              8944\n",
       "       Agra, India             129754\n",
       "       Ahmedabad, India      60556530\n",
       "       Aizawl, India           241529\n",
       "                               ...   \n",
       "12     Yerraguntla, India      259335\n",
       "       Zaidpur, India          154299\n",
       "       Zira, India             283129\n",
       "       Zirakpur, India         175566\n",
       "       Zunheboto, India         78591\n",
       "Name: Amount, Length: 4700, dtype: int64"
      ]
     },
     "execution_count": 11,
     "metadata": {},
     "output_type": "execute_result"
    }
   ],
   "source": [
    "df.groupby(['Month', 'City'])['Amount'].sum()"
   ]
  },
  {
   "cell_type": "markdown",
   "id": "7e702221-438e-4b7c-9051-76fb71075193",
   "metadata": {},
   "source": [
    "2. Spending Trends Over Time"
   ]
  },
  {
   "cell_type": "code",
   "execution_count": 12,
   "id": "0955d1cf-341e-41cc-a4aa-95deef3efb72",
   "metadata": {},
   "outputs": [
    {
     "data": {
      "text/plain": [
       "Date\n",
       "2013-10-04    9738755\n",
       "2013-10-05    8062632\n",
       "2013-10-06    6990055\n",
       "2013-10-07    7822992\n",
       "2013-10-08    5832533\n",
       "               ...   \n",
       "2015-05-22    6613863\n",
       "2015-05-23    6393798\n",
       "2015-05-24    7171912\n",
       "2015-05-25    5176669\n",
       "2015-05-26    7591837\n",
       "Name: Amount, Length: 600, dtype: int64"
      ]
     },
     "execution_count": 12,
     "metadata": {},
     "output_type": "execute_result"
    }
   ],
   "source": [
    "df.groupby('Date')['Amount'].sum()"
   ]
  },
  {
   "cell_type": "code",
   "execution_count": 13,
   "id": "46fe67b7-89d7-45dd-9756-59a4d648a68f",
   "metadata": {},
   "outputs": [
    {
     "data": {
      "text/plain": [
       "Year  Card_Type\n",
       "2013  Gold         144740555\n",
       "      Platinum     155964176\n",
       "      Signature    161225096\n",
       "      Silver       151714057\n",
       "2014  Gold         600688076\n",
       "      Platinum     600077102\n",
       "      Signature    606750478\n",
       "      Silver       647198377\n",
       "2015  Gold         239110905\n",
       "      Platinum     251597741\n",
       "      Signature    245065531\n",
       "      Silver       270701279\n",
       "Name: Amount, dtype: int64"
      ]
     },
     "execution_count": 13,
     "metadata": {},
     "output_type": "execute_result"
    }
   ],
   "source": [
    " df.groupby(['Year', 'Card_Type'])['Amount'].sum()"
   ]
  },
  {
   "cell_type": "code",
   "execution_count": 14,
   "id": "1cbde425-0df1-4cf4-a081-1e55d5d6ba99",
   "metadata": {},
   "outputs": [
    {
     "data": {
      "text/plain": [
       "Year  Card_Type\n",
       "2013  Gold         153489.453871\n",
       "      Platinum     160622.220391\n",
       "      Signature    161872.586345\n",
       "      Silver       149178.030482\n",
       "2014  Gold         154458.235022\n",
       "      Platinum     155742.824293\n",
       "      Signature    155856.788595\n",
       "      Silver       155726.269731\n",
       "2015  Gold         155772.576547\n",
       "      Platinum     159846.087039\n",
       "      Signature    157294.949294\n",
       "      Silver       162388.289742\n",
       "Name: Amount, dtype: float64"
      ]
     },
     "execution_count": 14,
     "metadata": {},
     "output_type": "execute_result"
    }
   ],
   "source": [
    " df.groupby(['Year', 'Card_Type'])['Amount'].mean()"
   ]
  },
  {
   "cell_type": "code",
   "execution_count": 15,
   "id": "551141c7-0b15-49bf-8b60-fc40b6c89ed2",
   "metadata": {},
   "outputs": [
    {
     "data": {
      "text/plain": [
       "15464   2013-10-04\n",
       "9427    2013-10-04\n",
       "9418    2013-10-04\n",
       "9244    2013-10-04\n",
       "1521    2013-10-04\n",
       "1612    2013-10-04\n",
       "15118   2013-10-04\n",
       "18278   2013-10-04\n",
       "4104    2013-10-04\n",
       "50      2013-10-04\n",
       "Name: Date, dtype: datetime64[ns]"
      ]
     },
     "execution_count": 15,
     "metadata": {},
     "output_type": "execute_result"
    }
   ],
   "source": [
    "a = df['Date'].sort_values().head(10)\n",
    "a"
   ]
  },
  {
   "cell_type": "code",
   "execution_count": 16,
   "id": "d9cad941-2f88-474d-8f0c-139674fc9272",
   "metadata": {},
   "outputs": [
    {
     "data": {
      "text/plain": [
       "13424   2015-05-26\n",
       "12574   2015-05-26\n",
       "21610   2015-05-26\n",
       "24604   2015-05-26\n",
       "21912   2015-05-26\n",
       "1491    2015-05-26\n",
       "12432   2015-05-26\n",
       "22448   2015-05-26\n",
       "1077    2015-05-26\n",
       "11566   2015-05-26\n",
       "Name: Date, dtype: datetime64[ns]"
      ]
     },
     "execution_count": 16,
     "metadata": {},
     "output_type": "execute_result"
    }
   ],
   "source": [
    "b = df['Date'].sort_values(ascending=False).head(10)\n",
    "b"
   ]
  },
  {
   "cell_type": "code",
   "execution_count": 17,
   "id": "f0abc1e5-335e-496e-acaf-7cc8191efa90",
   "metadata": {},
   "outputs": [
    {
     "data": {
      "text/plain": [
       "Timestamp('2014-07-30 11:34:44.385075968')"
      ]
     },
     "execution_count": 17,
     "metadata": {},
     "output_type": "execute_result"
    }
   ],
   "source": [
    "df.Date.mean()"
   ]
  },
  {
   "cell_type": "code",
   "execution_count": 18,
   "id": "cda77b96-4b1f-48be-a16d-a2431fdf0d04",
   "metadata": {},
   "outputs": [
    {
     "data": {
      "text/plain": [
       "6.354022723783203"
      ]
     },
     "execution_count": 18,
     "metadata": {},
     "output_type": "execute_result"
    }
   ],
   "source": [
    "df.Month.mean()"
   ]
  },
  {
   "cell_type": "markdown",
   "id": "8000d474-77c6-47c3-a687-98bfb9a059d4",
   "metadata": {},
   "source": [
    "3. card Type and Expenditure Analysis"
   ]
  },
  {
   "cell_type": "code",
   "execution_count": 19,
   "id": "88526d72-a527-4848-8f4e-59560cacfb9a",
   "metadata": {},
   "outputs": [
    {
     "data": {
      "text/plain": [
       "Card_Type\n",
       "Silver       6840\n",
       "Signature    6447\n",
       "Platinum     6398\n",
       "Gold         6367\n",
       "Name: count, dtype: int64"
      ]
     },
     "execution_count": 19,
     "metadata": {},
     "output_type": "execute_result"
    }
   ],
   "source": [
    "df['Card_Type'].value_counts()"
   ]
  },
  {
   "cell_type": "code",
   "execution_count": 20,
   "id": "417dc4c4-6b25-420b-b0ce-443681d7f778",
   "metadata": {},
   "outputs": [
    {
     "data": {
      "text/plain": [
       "Exp_Type\n",
       "Food             5463\n",
       "Fuel             5257\n",
       "Bills            5078\n",
       "Entertainment    4762\n",
       "Grocery          4754\n",
       "Travel            738\n",
       "Name: count, dtype: int64"
      ]
     },
     "execution_count": 20,
     "metadata": {},
     "output_type": "execute_result"
    }
   ],
   "source": [
    "df['Exp_Type'].value_counts()"
   ]
  },
  {
   "cell_type": "code",
   "execution_count": 21,
   "id": "67ecec21-5785-408e-a6bd-0574663ab9af",
   "metadata": {},
   "outputs": [
    {
     "data": {
      "text/html": [
       "<div>\n",
       "<style scoped>\n",
       "    .dataframe tbody tr th:only-of-type {\n",
       "        vertical-align: middle;\n",
       "    }\n",
       "\n",
       "    .dataframe tbody tr th {\n",
       "        vertical-align: top;\n",
       "    }\n",
       "\n",
       "    .dataframe thead th {\n",
       "        text-align: right;\n",
       "    }\n",
       "</style>\n",
       "<table border=\"1\" class=\"dataframe\">\n",
       "  <thead>\n",
       "    <tr style=\"text-align: right;\">\n",
       "      <th></th>\n",
       "      <th>count</th>\n",
       "      <th>mean</th>\n",
       "      <th>std</th>\n",
       "      <th>min</th>\n",
       "      <th>25%</th>\n",
       "      <th>50%</th>\n",
       "      <th>75%</th>\n",
       "      <th>max</th>\n",
       "    </tr>\n",
       "    <tr>\n",
       "      <th>Card_Type</th>\n",
       "      <th></th>\n",
       "      <th></th>\n",
       "      <th></th>\n",
       "      <th></th>\n",
       "      <th></th>\n",
       "      <th></th>\n",
       "      <th></th>\n",
       "      <th></th>\n",
       "    </tr>\n",
       "  </thead>\n",
       "  <tbody>\n",
       "    <tr>\n",
       "      <th>Gold</th>\n",
       "      <td>6367.0</td>\n",
       "      <td>154631.621800</td>\n",
       "      <td>105800.484508</td>\n",
       "      <td>1038.0</td>\n",
       "      <td>74389.50</td>\n",
       "      <td>150431.0</td>\n",
       "      <td>224538.50</td>\n",
       "      <td>996754.0</td>\n",
       "    </tr>\n",
       "    <tr>\n",
       "      <th>Platinum</th>\n",
       "      <td>6398.0</td>\n",
       "      <td>157492.813223</td>\n",
       "      <td>102051.710950</td>\n",
       "      <td>1005.0</td>\n",
       "      <td>79394.75</td>\n",
       "      <td>154215.0</td>\n",
       "      <td>227670.25</td>\n",
       "      <td>998077.0</td>\n",
       "    </tr>\n",
       "    <tr>\n",
       "      <th>Signature</th>\n",
       "      <td>6447.0</td>\n",
       "      <td>157133.721886</td>\n",
       "      <td>104385.788773</td>\n",
       "      <td>1024.0</td>\n",
       "      <td>76500.00</td>\n",
       "      <td>153972.0</td>\n",
       "      <td>230244.50</td>\n",
       "      <td>994537.0</td>\n",
       "    </tr>\n",
       "    <tr>\n",
       "      <th>Silver</th>\n",
       "      <td>6840.0</td>\n",
       "      <td>156376.273830</td>\n",
       "      <td>100127.272753</td>\n",
       "      <td>1018.0</td>\n",
       "      <td>78180.00</td>\n",
       "      <td>154028.5</td>\n",
       "      <td>230039.75</td>\n",
       "      <td>955468.0</td>\n",
       "    </tr>\n",
       "  </tbody>\n",
       "</table>\n",
       "</div>"
      ],
      "text/plain": [
       "            count           mean            std     min       25%       50%  \\\n",
       "Card_Type                                                                     \n",
       "Gold       6367.0  154631.621800  105800.484508  1038.0  74389.50  150431.0   \n",
       "Platinum   6398.0  157492.813223  102051.710950  1005.0  79394.75  154215.0   \n",
       "Signature  6447.0  157133.721886  104385.788773  1024.0  76500.00  153972.0   \n",
       "Silver     6840.0  156376.273830  100127.272753  1018.0  78180.00  154028.5   \n",
       "\n",
       "                 75%       max  \n",
       "Card_Type                       \n",
       "Gold       224538.50  996754.0  \n",
       "Platinum   227670.25  998077.0  \n",
       "Signature  230244.50  994537.0  \n",
       "Silver     230039.75  955468.0  "
      ]
     },
     "execution_count": 21,
     "metadata": {},
     "output_type": "execute_result"
    }
   ],
   "source": [
    "df.groupby('Card_Type')['Amount'].describe()"
   ]
  },
  {
   "cell_type": "code",
   "execution_count": 22,
   "id": "a7f0a9ee-1561-43bd-8f37-d6943e0e39a4",
   "metadata": {},
   "outputs": [
    {
     "data": {
      "text/html": [
       "<div>\n",
       "<style scoped>\n",
       "    .dataframe tbody tr th:only-of-type {\n",
       "        vertical-align: middle;\n",
       "    }\n",
       "\n",
       "    .dataframe tbody tr th {\n",
       "        vertical-align: top;\n",
       "    }\n",
       "\n",
       "    .dataframe thead th {\n",
       "        text-align: right;\n",
       "    }\n",
       "</style>\n",
       "<table border=\"1\" class=\"dataframe\">\n",
       "  <thead>\n",
       "    <tr style=\"text-align: right;\">\n",
       "      <th>Exp_Type</th>\n",
       "      <th>Bills</th>\n",
       "      <th>Entertainment</th>\n",
       "      <th>Food</th>\n",
       "      <th>Fuel</th>\n",
       "      <th>Grocery</th>\n",
       "      <th>Travel</th>\n",
       "    </tr>\n",
       "    <tr>\n",
       "      <th>Card_Type</th>\n",
       "      <th></th>\n",
       "      <th></th>\n",
       "      <th></th>\n",
       "      <th></th>\n",
       "      <th></th>\n",
       "      <th></th>\n",
       "    </tr>\n",
       "  </thead>\n",
       "  <tbody>\n",
       "    <tr>\n",
       "      <th>Gold</th>\n",
       "      <td>179565.245223</td>\n",
       "      <td>151765.934383</td>\n",
       "      <td>146563.127080</td>\n",
       "      <td>147790.054753</td>\n",
       "      <td>148567.339589</td>\n",
       "      <td>147122.150943</td>\n",
       "    </tr>\n",
       "    <tr>\n",
       "      <th>Platinum</th>\n",
       "      <td>180657.117168</td>\n",
       "      <td>156367.934288</td>\n",
       "      <td>153405.404814</td>\n",
       "      <td>149054.808756</td>\n",
       "      <td>151646.743363</td>\n",
       "      <td>135495.491620</td>\n",
       "    </tr>\n",
       "    <tr>\n",
       "      <th>Signature</th>\n",
       "      <td>179599.262907</td>\n",
       "      <td>152691.436752</td>\n",
       "      <td>155190.228743</td>\n",
       "      <td>146032.260498</td>\n",
       "      <td>152559.080882</td>\n",
       "      <td>153625.899441</td>\n",
       "    </tr>\n",
       "    <tr>\n",
       "      <th>Silver</th>\n",
       "      <td>174959.112444</td>\n",
       "      <td>149533.561014</td>\n",
       "      <td>148786.211659</td>\n",
       "      <td>157256.315362</td>\n",
       "      <td>151341.088993</td>\n",
       "      <td>156624.916667</td>\n",
       "    </tr>\n",
       "  </tbody>\n",
       "</table>\n",
       "</div>"
      ],
      "text/plain": [
       "Exp_Type           Bills  Entertainment           Food           Fuel  \\\n",
       "Card_Type                                                               \n",
       "Gold       179565.245223  151765.934383  146563.127080  147790.054753   \n",
       "Platinum   180657.117168  156367.934288  153405.404814  149054.808756   \n",
       "Signature  179599.262907  152691.436752  155190.228743  146032.260498   \n",
       "Silver     174959.112444  149533.561014  148786.211659  157256.315362   \n",
       "\n",
       "Exp_Type         Grocery         Travel  \n",
       "Card_Type                                \n",
       "Gold       148567.339589  147122.150943  \n",
       "Platinum   151646.743363  135495.491620  \n",
       "Signature  152559.080882  153625.899441  \n",
       "Silver     151341.088993  156624.916667  "
      ]
     },
     "execution_count": 22,
     "metadata": {},
     "output_type": "execute_result"
    }
   ],
   "source": [
    "df.groupby(['Card_Type', 'Exp_Type'])['Amount'].mean().unstack()"
   ]
  },
  {
   "cell_type": "code",
   "execution_count": 23,
   "id": "6e315273-8328-44ae-96fe-bf442a1e821f",
   "metadata": {},
   "outputs": [
    {
     "data": {
      "text/html": [
       "<div>\n",
       "<style scoped>\n",
       "    .dataframe tbody tr th:only-of-type {\n",
       "        vertical-align: middle;\n",
       "    }\n",
       "\n",
       "    .dataframe tbody tr th {\n",
       "        vertical-align: top;\n",
       "    }\n",
       "\n",
       "    .dataframe thead th {\n",
       "        text-align: right;\n",
       "    }\n",
       "</style>\n",
       "<table border=\"1\" class=\"dataframe\">\n",
       "  <thead>\n",
       "    <tr style=\"text-align: right;\">\n",
       "      <th>Exp_Type</th>\n",
       "      <th>Bills</th>\n",
       "      <th>Entertainment</th>\n",
       "      <th>Food</th>\n",
       "      <th>Fuel</th>\n",
       "      <th>Grocery</th>\n",
       "      <th>Travel</th>\n",
       "    </tr>\n",
       "    <tr>\n",
       "      <th>Card_Type</th>\n",
       "      <th></th>\n",
       "      <th></th>\n",
       "      <th></th>\n",
       "      <th></th>\n",
       "      <th></th>\n",
       "      <th></th>\n",
       "    </tr>\n",
       "  </thead>\n",
       "  <tbody>\n",
       "    <tr>\n",
       "      <th>Gold</th>\n",
       "      <td>1256</td>\n",
       "      <td>1143</td>\n",
       "      <td>1322</td>\n",
       "      <td>1315</td>\n",
       "      <td>1119</td>\n",
       "      <td>212</td>\n",
       "    </tr>\n",
       "    <tr>\n",
       "      <th>Platinum</th>\n",
       "      <td>1229</td>\n",
       "      <td>1187</td>\n",
       "      <td>1371</td>\n",
       "      <td>1302</td>\n",
       "      <td>1130</td>\n",
       "      <td>179</td>\n",
       "    </tr>\n",
       "    <tr>\n",
       "      <th>Signature</th>\n",
       "      <td>1259</td>\n",
       "      <td>1170</td>\n",
       "      <td>1329</td>\n",
       "      <td>1286</td>\n",
       "      <td>1224</td>\n",
       "      <td>179</td>\n",
       "    </tr>\n",
       "    <tr>\n",
       "      <th>Silver</th>\n",
       "      <td>1334</td>\n",
       "      <td>1262</td>\n",
       "      <td>1441</td>\n",
       "      <td>1354</td>\n",
       "      <td>1281</td>\n",
       "      <td>168</td>\n",
       "    </tr>\n",
       "  </tbody>\n",
       "</table>\n",
       "</div>"
      ],
      "text/plain": [
       "Exp_Type   Bills  Entertainment  Food  Fuel  Grocery  Travel\n",
       "Card_Type                                                   \n",
       "Gold        1256           1143  1322  1315     1119     212\n",
       "Platinum    1229           1187  1371  1302     1130     179\n",
       "Signature   1259           1170  1329  1286     1224     179\n",
       "Silver      1334           1262  1441  1354     1281     168"
      ]
     },
     "execution_count": 23,
     "metadata": {},
     "output_type": "execute_result"
    }
   ],
   "source": [
    "pd.crosstab(df['Card_Type'], df['Exp_Type'])"
   ]
  },
  {
   "cell_type": "code",
   "execution_count": 24,
   "id": "a2d5f6f3-1f70-48b0-b2cb-371dd0cf161f",
   "metadata": {},
   "outputs": [
    {
     "data": {
      "text/html": [
       "<div>\n",
       "<style scoped>\n",
       "    .dataframe tbody tr th:only-of-type {\n",
       "        vertical-align: middle;\n",
       "    }\n",
       "\n",
       "    .dataframe tbody tr th {\n",
       "        vertical-align: top;\n",
       "    }\n",
       "\n",
       "    .dataframe thead th {\n",
       "        text-align: right;\n",
       "    }\n",
       "</style>\n",
       "<table border=\"1\" class=\"dataframe\">\n",
       "  <thead>\n",
       "    <tr style=\"text-align: right;\">\n",
       "      <th>Card_Type</th>\n",
       "      <th>Gold</th>\n",
       "      <th>Platinum</th>\n",
       "      <th>Signature</th>\n",
       "      <th>Silver</th>\n",
       "    </tr>\n",
       "    <tr>\n",
       "      <th>Date</th>\n",
       "      <th></th>\n",
       "      <th></th>\n",
       "      <th></th>\n",
       "      <th></th>\n",
       "    </tr>\n",
       "  </thead>\n",
       "  <tbody>\n",
       "    <tr>\n",
       "      <th>2013-10-04</th>\n",
       "      <td>19</td>\n",
       "      <td>6</td>\n",
       "      <td>11</td>\n",
       "      <td>20</td>\n",
       "    </tr>\n",
       "    <tr>\n",
       "      <th>2013-10-05</th>\n",
       "      <td>9</td>\n",
       "      <td>9</td>\n",
       "      <td>12</td>\n",
       "      <td>18</td>\n",
       "    </tr>\n",
       "    <tr>\n",
       "      <th>2013-10-06</th>\n",
       "      <td>10</td>\n",
       "      <td>8</td>\n",
       "      <td>13</td>\n",
       "      <td>13</td>\n",
       "    </tr>\n",
       "    <tr>\n",
       "      <th>2013-10-07</th>\n",
       "      <td>11</td>\n",
       "      <td>17</td>\n",
       "      <td>13</td>\n",
       "      <td>9</td>\n",
       "    </tr>\n",
       "    <tr>\n",
       "      <th>2013-10-08</th>\n",
       "      <td>14</td>\n",
       "      <td>10</td>\n",
       "      <td>10</td>\n",
       "      <td>6</td>\n",
       "    </tr>\n",
       "    <tr>\n",
       "      <th>...</th>\n",
       "      <td>...</td>\n",
       "      <td>...</td>\n",
       "      <td>...</td>\n",
       "      <td>...</td>\n",
       "    </tr>\n",
       "    <tr>\n",
       "      <th>2015-05-22</th>\n",
       "      <td>10</td>\n",
       "      <td>9</td>\n",
       "      <td>8</td>\n",
       "      <td>11</td>\n",
       "    </tr>\n",
       "    <tr>\n",
       "      <th>2015-05-23</th>\n",
       "      <td>14</td>\n",
       "      <td>10</td>\n",
       "      <td>11</td>\n",
       "      <td>11</td>\n",
       "    </tr>\n",
       "    <tr>\n",
       "      <th>2015-05-24</th>\n",
       "      <td>9</td>\n",
       "      <td>14</td>\n",
       "      <td>11</td>\n",
       "      <td>14</td>\n",
       "    </tr>\n",
       "    <tr>\n",
       "      <th>2015-05-25</th>\n",
       "      <td>8</td>\n",
       "      <td>10</td>\n",
       "      <td>12</td>\n",
       "      <td>9</td>\n",
       "    </tr>\n",
       "    <tr>\n",
       "      <th>2015-05-26</th>\n",
       "      <td>9</td>\n",
       "      <td>17</td>\n",
       "      <td>13</td>\n",
       "      <td>7</td>\n",
       "    </tr>\n",
       "  </tbody>\n",
       "</table>\n",
       "<p>600 rows × 4 columns</p>\n",
       "</div>"
      ],
      "text/plain": [
       "Card_Type   Gold  Platinum  Signature  Silver\n",
       "Date                                         \n",
       "2013-10-04    19         6         11      20\n",
       "2013-10-05     9         9         12      18\n",
       "2013-10-06    10         8         13      13\n",
       "2013-10-07    11        17         13       9\n",
       "2013-10-08    14        10         10       6\n",
       "...          ...       ...        ...     ...\n",
       "2015-05-22    10         9          8      11\n",
       "2015-05-23    14        10         11      11\n",
       "2015-05-24     9        14         11      14\n",
       "2015-05-25     8        10         12       9\n",
       "2015-05-26     9        17         13       7\n",
       "\n",
       "[600 rows x 4 columns]"
      ]
     },
     "execution_count": 24,
     "metadata": {},
     "output_type": "execute_result"
    }
   ],
   "source": [
    "df.groupby([df['Date'], df['Card_Type']]).size().unstack()"
   ]
  },
  {
   "cell_type": "markdown",
   "id": "57c5e19d-8325-427c-ab16-f69d0ff6f885",
   "metadata": {},
   "source": [
    "4. Spending Patterns by Demographics"
   ]
  },
  {
   "cell_type": "code",
   "execution_count": 25,
   "id": "a8112fd9-3f64-4756-bb8d-57bc09d0acae",
   "metadata": {},
   "outputs": [
    {
     "data": {
      "text/plain": [
       "Gender\n",
       "F    161206.946637\n",
       "M    151109.145086\n",
       "Name: Amount, dtype: float64"
      ]
     },
     "execution_count": 25,
     "metadata": {},
     "output_type": "execute_result"
    }
   ],
   "source": [
    "df.groupby('Gender')['Amount'].mean()"
   ]
  },
  {
   "cell_type": "code",
   "execution_count": 26,
   "id": "8df322b6-9ccf-4bf1-af9e-9a106a2dda1a",
   "metadata": {},
   "outputs": [
    {
     "data": {
      "text/plain": [
       "Exp_Type       Gender\n",
       "Bills          F         202809.604545\n",
       "               M         147446.800721\n",
       "Entertainment  F         150446.028943\n",
       "               M         154656.939865\n",
       "Food           F         150337.742032\n",
       "               M         151736.731946\n",
       "Fuel           F         149897.753535\n",
       "               M         150323.257576\n",
       "Grocery        F         150595.962932\n",
       "               M         151573.914445\n",
       "Travel         F         147402.453826\n",
       "               M         148718.888579\n",
       "Name: Amount, dtype: float64"
      ]
     },
     "execution_count": 26,
     "metadata": {},
     "output_type": "execute_result"
    }
   ],
   "source": [
    "df.groupby(['Exp_Type', 'Gender'])['Amount'].mean()"
   ]
  },
  {
   "cell_type": "code",
   "execution_count": 27,
   "id": "907b232f-41d2-4708-8419-ff0711814527",
   "metadata": {},
   "outputs": [
    {
     "data": {
      "image/png": "[encoded data removed]",
      "text/plain": [
       "<Figure size 640x480 with 1 Axes>"
      ]
     },
     "metadata": {},
     "output_type": "display_data"
    }
   ],
   "source": [
    "sb.countplot(x=df.Exp_Type)\n",
    "plt.xticks(rotation=90)\n",
    "plt.show()"
   ]
  },
  {
   "cell_type": "markdown",
   "id": "9af332de-3a0e-45e7-8dfa-04739a12cd82",
   "metadata": {},
   "source": [
    "5.  Anomaly Detection & Outliers"
   ]
  },
  {
   "cell_type": "code",
   "execution_count": 28,
   "id": "6131f4c0-b002-4a6b-82a0-a2778738f452",
   "metadata": {},
   "outputs": [
    {
     "data": {
      "text/plain": [
       "City\n",
       "Bengaluru, India         3552\n",
       "Greater Mumbai, India    3493\n",
       "Ahmedabad, India         3491\n",
       "Delhi, India             3482\n",
       "Hyderabad, India          784\n",
       "Chennai, India            774\n",
       "Kolkata, India            773\n",
       "Kanpur, India             764\n",
       "Lucknow, India            759\n",
       "Jaipur, India             752\n",
       "Name: count, dtype: int64"
      ]
     },
     "execution_count": 28,
     "metadata": {},
     "output_type": "execute_result"
    }
   ],
   "source": [
    "df['City'].value_counts().nlargest(10)"
   ]
  },
  {
   "cell_type": "code",
   "execution_count": 29,
   "id": "447df614-ad9a-45ba-a5cc-15f80505d235",
   "metadata": {},
   "outputs": [
    {
     "data": {
      "text/plain": [
       "Date\n",
       "2013-10-04    9738755\n",
       "2013-10-05    8062632\n",
       "2013-10-06    6990055\n",
       "2013-10-07    7822992\n",
       "2013-10-08    5832533\n",
       "               ...   \n",
       "2015-05-22    6613863\n",
       "2015-05-23    6393798\n",
       "2015-05-24    7171912\n",
       "2015-05-25    5176669\n",
       "2015-05-26    7591837\n",
       "Name: Amount, Length: 600, dtype: int64"
      ]
     },
     "execution_count": 29,
     "metadata": {},
     "output_type": "execute_result"
    }
   ],
   "source": [
    "df.groupby('Date')['Amount'].sum()"
   ]
  },
  {
   "cell_type": "code",
   "execution_count": 30,
   "id": "f7e382c3-9f0a-40e1-bd9e-48806148e243",
   "metadata": {},
   "outputs": [
    {
     "data": {
      "text/plain": [
       "465601.300285343"
      ]
     },
     "execution_count": 30,
     "metadata": {},
     "output_type": "execute_result"
    }
   ],
   "source": [
    "a = df['Amount'].mean()+3* df['Amount'].std()\n",
    "a"
   ]
  },
  {
   "cell_type": "code",
   "execution_count": 31,
   "id": "e8150a23-0655-4ace-afc4-792ed9866bb1",
   "metadata": {},
   "outputs": [
    {
     "data": {
      "text/html": [
       "<div>\n",
       "<style scoped>\n",
       "    .dataframe tbody tr th:only-of-type {\n",
       "        vertical-align: middle;\n",
       "    }\n",
       "\n",
       "    .dataframe tbody tr th {\n",
       "        vertical-align: top;\n",
       "    }\n",
       "\n",
       "    .dataframe thead th {\n",
       "        text-align: right;\n",
       "    }\n",
       "</style>\n",
       "<table border=\"1\" class=\"dataframe\">\n",
       "  <thead>\n",
       "    <tr style=\"text-align: right;\">\n",
       "      <th></th>\n",
       "      <th>index</th>\n",
       "      <th>City</th>\n",
       "      <th>Date</th>\n",
       "      <th>Card_Type</th>\n",
       "      <th>Exp_Type</th>\n",
       "      <th>Gender</th>\n",
       "      <th>Amount</th>\n",
       "      <th>Year</th>\n",
       "      <th>Month</th>\n",
       "    </tr>\n",
       "  </thead>\n",
       "  <tbody>\n",
       "    <tr>\n",
       "      <th>15</th>\n",
       "      <td>15</td>\n",
       "      <td>Greater Mumbai, India</td>\n",
       "      <td>2014-11-28</td>\n",
       "      <td>Platinum</td>\n",
       "      <td>Bills</td>\n",
       "      <td>F</td>\n",
       "      <td>647116</td>\n",
       "      <td>2014</td>\n",
       "      <td>11</td>\n",
       "    </tr>\n",
       "    <tr>\n",
       "      <th>17</th>\n",
       "      <td>17</td>\n",
       "      <td>Greater Mumbai, India</td>\n",
       "      <td>2015-03-30</td>\n",
       "      <td>Gold</td>\n",
       "      <td>Bills</td>\n",
       "      <td>F</td>\n",
       "      <td>986379</td>\n",
       "      <td>2015</td>\n",
       "      <td>3</td>\n",
       "    </tr>\n",
       "    <tr>\n",
       "      <th>19</th>\n",
       "      <td>19</td>\n",
       "      <td>Greater Mumbai, India</td>\n",
       "      <td>2013-11-09</td>\n",
       "      <td>Platinum</td>\n",
       "      <td>Bills</td>\n",
       "      <td>F</td>\n",
       "      <td>735566</td>\n",
       "      <td>2013</td>\n",
       "      <td>11</td>\n",
       "    </tr>\n",
       "    <tr>\n",
       "      <th>21</th>\n",
       "      <td>21</td>\n",
       "      <td>Delhi, India</td>\n",
       "      <td>2014-07-01</td>\n",
       "      <td>Signature</td>\n",
       "      <td>Bills</td>\n",
       "      <td>F</td>\n",
       "      <td>809623</td>\n",
       "      <td>2014</td>\n",
       "      <td>7</td>\n",
       "    </tr>\n",
       "    <tr>\n",
       "      <th>22</th>\n",
       "      <td>22</td>\n",
       "      <td>Greater Mumbai, India</td>\n",
       "      <td>2015-03-27</td>\n",
       "      <td>Silver</td>\n",
       "      <td>Bills</td>\n",
       "      <td>F</td>\n",
       "      <td>467014</td>\n",
       "      <td>2015</td>\n",
       "      <td>3</td>\n",
       "    </tr>\n",
       "    <tr>\n",
       "      <th>...</th>\n",
       "      <td>...</td>\n",
       "      <td>...</td>\n",
       "      <td>...</td>\n",
       "      <td>...</td>\n",
       "      <td>...</td>\n",
       "      <td>...</td>\n",
       "      <td>...</td>\n",
       "      <td>...</td>\n",
       "      <td>...</td>\n",
       "    </tr>\n",
       "    <tr>\n",
       "      <th>344</th>\n",
       "      <td>344</td>\n",
       "      <td>Ahmedabad, India</td>\n",
       "      <td>2013-12-07</td>\n",
       "      <td>Platinum</td>\n",
       "      <td>Bills</td>\n",
       "      <td>F</td>\n",
       "      <td>515263</td>\n",
       "      <td>2013</td>\n",
       "      <td>12</td>\n",
       "    </tr>\n",
       "    <tr>\n",
       "      <th>346</th>\n",
       "      <td>346</td>\n",
       "      <td>Ahmedabad, India</td>\n",
       "      <td>2014-06-16</td>\n",
       "      <td>Silver</td>\n",
       "      <td>Bills</td>\n",
       "      <td>F</td>\n",
       "      <td>934683</td>\n",
       "      <td>2014</td>\n",
       "      <td>6</td>\n",
       "    </tr>\n",
       "    <tr>\n",
       "      <th>348</th>\n",
       "      <td>348</td>\n",
       "      <td>Greater Mumbai, India</td>\n",
       "      <td>2015-01-28</td>\n",
       "      <td>Gold</td>\n",
       "      <td>Bills</td>\n",
       "      <td>F</td>\n",
       "      <td>654519</td>\n",
       "      <td>2015</td>\n",
       "      <td>1</td>\n",
       "    </tr>\n",
       "    <tr>\n",
       "      <th>349</th>\n",
       "      <td>349</td>\n",
       "      <td>Ahmedabad, India</td>\n",
       "      <td>2014-06-12</td>\n",
       "      <td>Gold</td>\n",
       "      <td>Bills</td>\n",
       "      <td>F</td>\n",
       "      <td>958047</td>\n",
       "      <td>2014</td>\n",
       "      <td>6</td>\n",
       "    </tr>\n",
       "    <tr>\n",
       "      <th>351</th>\n",
       "      <td>351</td>\n",
       "      <td>Ahmedabad, India</td>\n",
       "      <td>2013-12-31</td>\n",
       "      <td>Signature</td>\n",
       "      <td>Bills</td>\n",
       "      <td>F</td>\n",
       "      <td>653161</td>\n",
       "      <td>2013</td>\n",
       "      <td>12</td>\n",
       "    </tr>\n",
       "  </tbody>\n",
       "</table>\n",
       "<p>224 rows × 9 columns</p>\n",
       "</div>"
      ],
      "text/plain": [
       "     index                   City       Date  Card_Type Exp_Type Gender  \\\n",
       "15      15  Greater Mumbai, India 2014-11-28   Platinum    Bills      F   \n",
       "17      17  Greater Mumbai, India 2015-03-30       Gold    Bills      F   \n",
       "19      19  Greater Mumbai, India 2013-11-09   Platinum    Bills      F   \n",
       "21      21           Delhi, India 2014-07-01  Signature    Bills      F   \n",
       "22      22  Greater Mumbai, India 2015-03-27     Silver    Bills      F   \n",
       "..     ...                    ...        ...        ...      ...    ...   \n",
       "344    344       Ahmedabad, India 2013-12-07   Platinum    Bills      F   \n",
       "346    346       Ahmedabad, India 2014-06-16     Silver    Bills      F   \n",
       "348    348  Greater Mumbai, India 2015-01-28       Gold    Bills      F   \n",
       "349    349       Ahmedabad, India 2014-06-12       Gold    Bills      F   \n",
       "351    351       Ahmedabad, India 2013-12-31  Signature    Bills      F   \n",
       "\n",
       "     Amount  Year  Month  \n",
       "15   647116  2014     11  \n",
       "17   986379  2015      3  \n",
       "19   735566  2013     11  \n",
       "21   809623  2014      7  \n",
       "22   467014  2015      3  \n",
       "..      ...   ...    ...  \n",
       "344  515263  2013     12  \n",
       "346  934683  2014      6  \n",
       "348  654519  2015      1  \n",
       "349  958047  2014      6  \n",
       "351  653161  2013     12  \n",
       "\n",
       "[224 rows x 9 columns]"
      ]
     },
     "execution_count": 31,
     "metadata": {},
     "output_type": "execute_result"
    }
   ],
   "source": [
    "df[df['Amount'] > a]"
   ]
  },
  {
   "cell_type": "markdown",
   "id": "9b99e331-36b0-4428-8a14-b831124f9236",
   "metadata": {},
   "source": [
    "6. Expenditure Type Distribution "
   ]
  },
  {
   "cell_type": "code",
   "execution_count": 32,
   "id": "fa21d23b-d40e-49b1-922f-5369733c96d2",
   "metadata": {},
   "outputs": [
    {
     "data": {
      "text/plain": [
       "Exp_Type\n",
       "Bills            178627.899370\n",
       "Entertainment    152548.831583\n",
       "Grocery          151074.447413\n",
       "Food             150965.405272\n",
       "Fuel             150111.436371\n",
       "Travel           148042.833333\n",
       "Name: Amount, dtype: float64"
      ]
     },
     "execution_count": 32,
     "metadata": {},
     "output_type": "execute_result"
    }
   ],
   "source": [
    "df.groupby('Exp_Type')['Amount'].mean().sort_values(ascending=False)\n"
   ]
  },
  {
   "cell_type": "code",
   "execution_count": 33,
   "id": "ef4ca965-d2d5-48fa-8a3a-d7ef1bb73c08",
   "metadata": {},
   "outputs": [
    {
     "data": {
      "text/html": [
       "<div>\n",
       "<style scoped>\n",
       "    .dataframe tbody tr th:only-of-type {\n",
       "        vertical-align: middle;\n",
       "    }\n",
       "\n",
       "    .dataframe tbody tr th {\n",
       "        vertical-align: top;\n",
       "    }\n",
       "\n",
       "    .dataframe thead th {\n",
       "        text-align: right;\n",
       "    }\n",
       "</style>\n",
       "<table border=\"1\" class=\"dataframe\">\n",
       "  <thead>\n",
       "    <tr style=\"text-align: right;\">\n",
       "      <th>Card_Type</th>\n",
       "      <th>Gold</th>\n",
       "      <th>Platinum</th>\n",
       "      <th>Signature</th>\n",
       "      <th>Silver</th>\n",
       "    </tr>\n",
       "    <tr>\n",
       "      <th>Exp_Type</th>\n",
       "      <th></th>\n",
       "      <th></th>\n",
       "      <th></th>\n",
       "      <th></th>\n",
       "    </tr>\n",
       "  </thead>\n",
       "  <tbody>\n",
       "    <tr>\n",
       "      <th>Bills</th>\n",
       "      <td>1256</td>\n",
       "      <td>1229</td>\n",
       "      <td>1259</td>\n",
       "      <td>1334</td>\n",
       "    </tr>\n",
       "    <tr>\n",
       "      <th>Entertainment</th>\n",
       "      <td>1143</td>\n",
       "      <td>1187</td>\n",
       "      <td>1170</td>\n",
       "      <td>1262</td>\n",
       "    </tr>\n",
       "    <tr>\n",
       "      <th>Food</th>\n",
       "      <td>1322</td>\n",
       "      <td>1371</td>\n",
       "      <td>1329</td>\n",
       "      <td>1441</td>\n",
       "    </tr>\n",
       "    <tr>\n",
       "      <th>Fuel</th>\n",
       "      <td>1315</td>\n",
       "      <td>1302</td>\n",
       "      <td>1286</td>\n",
       "      <td>1354</td>\n",
       "    </tr>\n",
       "    <tr>\n",
       "      <th>Grocery</th>\n",
       "      <td>1119</td>\n",
       "      <td>1130</td>\n",
       "      <td>1224</td>\n",
       "      <td>1281</td>\n",
       "    </tr>\n",
       "    <tr>\n",
       "      <th>Travel</th>\n",
       "      <td>212</td>\n",
       "      <td>179</td>\n",
       "      <td>179</td>\n",
       "      <td>168</td>\n",
       "    </tr>\n",
       "  </tbody>\n",
       "</table>\n",
       "</div>"
      ],
      "text/plain": [
       "Card_Type      Gold  Platinum  Signature  Silver\n",
       "Exp_Type                                        \n",
       "Bills          1256      1229       1259    1334\n",
       "Entertainment  1143      1187       1170    1262\n",
       "Food           1322      1371       1329    1441\n",
       "Fuel           1315      1302       1286    1354\n",
       "Grocery        1119      1130       1224    1281\n",
       "Travel          212       179        179     168"
      ]
     },
     "execution_count": 33,
     "metadata": {},
     "output_type": "execute_result"
    }
   ],
   "source": [
    "pd.crosstab(df['Exp_Type'], df['Card_Type'])"
   ]
  },
  {
   "cell_type": "code",
   "execution_count": null,
   "id": "abc573b7-c5e4-48a5-9c02-891e34363394",
   "metadata": {},
   "outputs": [],
   "source": []
  }
 ],
 "metadata": {
  "kernelspec": {
   "display_name": "Python 3 (ipykernel)",
   "language": "python",
   "name": "python3"
  },
  "language_info": {
   "codemirror_mode": {
    "name": "ipython",
    "version": 3
   },
   "file_extension": ".py",
   "mimetype": "text/x-python",
   "name": "python",
   "nbconvert_exporter": "python",
   "pygments_lexer": "ipython3",
   "version": "3.12.7"
  }
 },
 "nbformat": 4,
 "nbformat_minor": 5
}
